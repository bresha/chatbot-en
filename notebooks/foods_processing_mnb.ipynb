{
 "cells": [
  {
   "cell_type": "code",
   "execution_count": 53,
   "metadata": {},
   "outputs": [],
   "source": [
    "import nltk\n",
    "import pandas as pd\n",
    "import numpy as np\n",
    "from sklearn.preprocessing import LabelEncoder\n",
    "from sklearn.naive_bayes import MultinomialNB\n",
    "from sklearn.feature_extraction.text import TfidfVectorizer\n",
    "from sklearn.model_selection import train_test_split\n",
    "from sklearn.metrics import accuracy_score, confusion_matrix\n",
    "import json\n",
    "from joblib import dump"
   ]
  },
  {
   "cell_type": "code",
   "execution_count": 54,
   "metadata": {},
   "outputs": [
    {
     "data": {
      "text/plain": [
       "[['i would like margherita', 'margherita'],\n",
       " ['i would like one margherita', 'margherita'],\n",
       " ['i would like two margheritas', 'margherita'],\n",
       " ['margherita, please', 'margherita'],\n",
       " ['one margherita, please', 'margherita'],\n",
       " ['two margheritas, please', 'margherita'],\n",
       " ['margherita', 'margherita'],\n",
       " ['one margherita', 'margherita'],\n",
       " ['two margheritas', 'margherita'],\n",
       " ['please deliver me a margherita', 'margherita'],\n",
       " ['please deliver me two margheritas', 'margherita'],\n",
       " ['i want margherita to be delivered to me', 'margherita'],\n",
       " ['i want to order margherita', 'margherita'],\n",
       " ['i would like formaggio', 'formaggio'],\n",
       " ['i would like one formaggio', 'formaggio'],\n",
       " ['i would like two formaggios', 'formaggio'],\n",
       " ['formaggio, please', 'formaggio'],\n",
       " ['one formaggio, please', 'formaggio'],\n",
       " ['two formaggios, please', 'formaggio'],\n",
       " ['formaggio', 'formaggio'],\n",
       " ['one formaggio', 'formaggio'],\n",
       " ['two formaggios', 'formaggio'],\n",
       " ['please deliver me a formaggio', 'formaggio'],\n",
       " ['please deliver me two formaggios', 'formaggio'],\n",
       " ['i want formaggio to be delivered to me', 'formaggio'],\n",
       " ['i want to order formaggio', 'formaggio'],\n",
       " ['i would like meat town', 'meat town'],\n",
       " ['i would like one meat town', 'meat town'],\n",
       " ['i would like two meat towns', 'meat town'],\n",
       " ['meat town, please', 'meat town'],\n",
       " ['one meat town, please', 'meat town'],\n",
       " ['two meat towns, please', 'meat town'],\n",
       " ['meat town', 'meat town'],\n",
       " ['one meat town', 'meat town'],\n",
       " ['two meat towns', 'meat town'],\n",
       " ['please deliver me a meat town', 'meat town'],\n",
       " ['please deliver me two meat towns', 'meat town'],\n",
       " ['i want meat town to be delivered to me', 'meat town'],\n",
       " ['i want to order meat town', 'meat town'],\n",
       " ['i would like lasagna', 'lasagna'],\n",
       " ['i would like one lasagna', 'lasagna'],\n",
       " ['i would like two lasagnas', 'lasagna'],\n",
       " ['lasagna, please', 'lasagna'],\n",
       " ['one lasagna, please', 'lasagna'],\n",
       " ['two lasagnas, please', 'lasagna'],\n",
       " ['lasagna', 'lasagna'],\n",
       " ['one lasagna', 'lasagna'],\n",
       " ['two lasagnas', 'lasagna'],\n",
       " ['please deliver me a lasagna', 'lasagna'],\n",
       " ['please deliver me two lasagnas', 'lasagna'],\n",
       " ['i want lasagna to be delivered to me', 'lasagna'],\n",
       " ['i want to order lasagna', 'lasagna'],\n",
       " ['i would like ravioli', 'ravioli'],\n",
       " ['i would like one ravioli', 'ravioli'],\n",
       " ['i would like two raviolis', 'ravioli'],\n",
       " ['ravioli, please', 'ravioli'],\n",
       " ['one ravioli, please', 'ravioli'],\n",
       " ['two raviolis, please', 'ravioli'],\n",
       " ['ravioli', 'ravioli'],\n",
       " ['one ravioli', 'ravioli'],\n",
       " ['two raviolis', 'ravioli'],\n",
       " ['please deliver me a ravioli', 'ravioli'],\n",
       " ['please deliver me two raviolis', 'ravioli'],\n",
       " ['i want ravioli to be delivered to me', 'ravioli'],\n",
       " ['i want to order ravioli', 'ravioli'],\n",
       " ['i would like spaghetti classica', 'spaghetti classica'],\n",
       " ['i would like one spaghetti', 'spaghetti classica'],\n",
       " ['i would like two spaghettis', 'spaghetti classica'],\n",
       " ['spaghetti classica, please', 'spaghetti classica'],\n",
       " ['one spaghetti classica, please', 'spaghetti classica'],\n",
       " ['two spaghettis, please', 'spaghetti classica'],\n",
       " ['spaghetti classica', 'spaghetti classica'],\n",
       " ['one spaghetti classica', 'spaghetti classica'],\n",
       " ['two spaghetti classica', 'spaghetti classica'],\n",
       " ['please deliver me a spaghetti', 'spaghetti classica'],\n",
       " ['please deliver me two spaghetti classica', 'spaghetti classica'],\n",
       " ['i want spaghetti to be delivered to me', 'spaghetti classica'],\n",
       " ['i want to order spaghetti classica', 'spaghetti classica'],\n",
       " ['i would like chicken soup', 'chicken soup'],\n",
       " ['i would like one chicken soup', 'chicken soup'],\n",
       " ['i would like two chicken soups', 'chicken soup'],\n",
       " ['chicken soup, please', 'chicken soup'],\n",
       " ['one chicken soup, please', 'chicken soup'],\n",
       " ['two chicken soups, please', 'chicken soup'],\n",
       " ['chicken soup', 'chicken soup'],\n",
       " ['one chicken soup', 'chicken soup'],\n",
       " ['two chicken soups', 'chicken soup'],\n",
       " ['please deliver me a chicken soup', 'chicken soup'],\n",
       " ['please deliver me two chicken soups', 'chicken soup'],\n",
       " ['i want chicken soup to be delivered to me', 'chicken soup'],\n",
       " ['i want to order chicken soup', 'chicken soup'],\n",
       " ['i would like bruschetta', 'bruschetta'],\n",
       " ['i would like one bruschetta', 'bruschetta'],\n",
       " ['i would like two bruschettas', 'bruschetta'],\n",
       " ['bruschetta, please', 'bruschetta'],\n",
       " ['one bruschetta, please', 'bruschetta'],\n",
       " ['two bruschettas, please', 'bruschetta'],\n",
       " ['bruschetta', 'bruschetta'],\n",
       " ['one bruschetta', 'bruschetta'],\n",
       " ['two bruschettas', 'bruschetta'],\n",
       " ['please deliver me a bruschetta', 'bruschetta'],\n",
       " ['please deliver me two bruschettas', 'bruschetta'],\n",
       " ['i want bruschetta to be delivered to me', 'bruschetta'],\n",
       " ['i want to order bruschetta', 'bruschetta'],\n",
       " ['i would like garlic bread', 'garlic bread'],\n",
       " ['i would like one garlic bread', 'garlic bread'],\n",
       " ['i would like two garlic breads', 'garlic bread'],\n",
       " ['garlic bread, please', 'garlic bread'],\n",
       " ['one garlic bread, please', 'garlic bread'],\n",
       " ['two garlic breads, please', 'garlic bread'],\n",
       " ['garlic bread', 'garlic bread'],\n",
       " ['one garlic bread', 'garlic bread'],\n",
       " ['two garlic breads', 'garlic bread'],\n",
       " ['please deliver me a garlic bread', 'garlic bread'],\n",
       " ['please deliver me two garlic breads', 'garlic bread'],\n",
       " ['i want garlic bread to be delivered to me', 'garlic bread'],\n",
       " ['i want to order garlic bread', 'garlic bread']]"
      ]
     },
     "execution_count": 54,
     "metadata": {},
     "output_type": "execute_result"
    }
   ],
   "source": [
    "with open(\"../data/foods_data.json\") as f:\n",
    "    content = json.load(f)\n",
    "\n",
    "examples = []\n",
    "for item in content:\n",
    "    for i in item[\"inputs\"]:\n",
    "        examples.append([i.lower(), item[\"class\"].lower()])\n",
    "\n",
    "examples"
   ]
  },
  {
   "cell_type": "code",
   "execution_count": 55,
   "metadata": {},
   "outputs": [
    {
     "data": {
      "text/html": [
       "<div>\n",
       "<style scoped>\n",
       "    .dataframe tbody tr th:only-of-type {\n",
       "        vertical-align: middle;\n",
       "    }\n",
       "\n",
       "    .dataframe tbody tr th {\n",
       "        vertical-align: top;\n",
       "    }\n",
       "\n",
       "    .dataframe thead th {\n",
       "        text-align: right;\n",
       "    }\n",
       "</style>\n",
       "<table border=\"1\" class=\"dataframe\">\n",
       "  <thead>\n",
       "    <tr style=\"text-align: right;\">\n",
       "      <th></th>\n",
       "      <th>inputs</th>\n",
       "      <th>class</th>\n",
       "    </tr>\n",
       "  </thead>\n",
       "  <tbody>\n",
       "    <tr>\n",
       "      <th>0</th>\n",
       "      <td>i would like margherita</td>\n",
       "      <td>margherita</td>\n",
       "    </tr>\n",
       "    <tr>\n",
       "      <th>1</th>\n",
       "      <td>i would like one margherita</td>\n",
       "      <td>margherita</td>\n",
       "    </tr>\n",
       "    <tr>\n",
       "      <th>2</th>\n",
       "      <td>i would like two margheritas</td>\n",
       "      <td>margherita</td>\n",
       "    </tr>\n",
       "    <tr>\n",
       "      <th>3</th>\n",
       "      <td>margherita, please</td>\n",
       "      <td>margherita</td>\n",
       "    </tr>\n",
       "    <tr>\n",
       "      <th>4</th>\n",
       "      <td>one margherita, please</td>\n",
       "      <td>margherita</td>\n",
       "    </tr>\n",
       "    <tr>\n",
       "      <th>...</th>\n",
       "      <td>...</td>\n",
       "      <td>...</td>\n",
       "    </tr>\n",
       "    <tr>\n",
       "      <th>112</th>\n",
       "      <td>two garlic breads</td>\n",
       "      <td>garlic bread</td>\n",
       "    </tr>\n",
       "    <tr>\n",
       "      <th>113</th>\n",
       "      <td>please deliver me a garlic bread</td>\n",
       "      <td>garlic bread</td>\n",
       "    </tr>\n",
       "    <tr>\n",
       "      <th>114</th>\n",
       "      <td>please deliver me two garlic breads</td>\n",
       "      <td>garlic bread</td>\n",
       "    </tr>\n",
       "    <tr>\n",
       "      <th>115</th>\n",
       "      <td>i want garlic bread to be delivered to me</td>\n",
       "      <td>garlic bread</td>\n",
       "    </tr>\n",
       "    <tr>\n",
       "      <th>116</th>\n",
       "      <td>i want to order garlic bread</td>\n",
       "      <td>garlic bread</td>\n",
       "    </tr>\n",
       "  </tbody>\n",
       "</table>\n",
       "<p>117 rows × 2 columns</p>\n",
       "</div>"
      ],
      "text/plain": [
       "                                        inputs         class\n",
       "0                      i would like margherita    margherita\n",
       "1                  i would like one margherita    margherita\n",
       "2                 i would like two margheritas    margherita\n",
       "3                           margherita, please    margherita\n",
       "4                       one margherita, please    margherita\n",
       "..                                         ...           ...\n",
       "112                          two garlic breads  garlic bread\n",
       "113           please deliver me a garlic bread  garlic bread\n",
       "114        please deliver me two garlic breads  garlic bread\n",
       "115  i want garlic bread to be delivered to me  garlic bread\n",
       "116               i want to order garlic bread  garlic bread\n",
       "\n",
       "[117 rows x 2 columns]"
      ]
     },
     "execution_count": 55,
     "metadata": {},
     "output_type": "execute_result"
    }
   ],
   "source": [
    "df = pd.DataFrame(examples, columns=[\"inputs\", \"class\"])\n",
    "df"
   ]
  },
  {
   "cell_type": "code",
   "execution_count": 56,
   "metadata": {},
   "outputs": [
    {
     "data": {
      "text/plain": [
       "LabelEncoder()"
      ]
     },
     "execution_count": 56,
     "metadata": {},
     "output_type": "execute_result"
    }
   ],
   "source": [
    "le = LabelEncoder()\n",
    "le.fit(df[\"class\"])"
   ]
  },
  {
   "cell_type": "code",
   "execution_count": 57,
   "metadata": {},
   "outputs": [
    {
     "data": {
      "text/html": [
       "<div>\n",
       "<style scoped>\n",
       "    .dataframe tbody tr th:only-of-type {\n",
       "        vertical-align: middle;\n",
       "    }\n",
       "\n",
       "    .dataframe tbody tr th {\n",
       "        vertical-align: top;\n",
       "    }\n",
       "\n",
       "    .dataframe thead th {\n",
       "        text-align: right;\n",
       "    }\n",
       "</style>\n",
       "<table border=\"1\" class=\"dataframe\">\n",
       "  <thead>\n",
       "    <tr style=\"text-align: right;\">\n",
       "      <th></th>\n",
       "      <th>inputs</th>\n",
       "      <th>class</th>\n",
       "      <th>labels</th>\n",
       "    </tr>\n",
       "  </thead>\n",
       "  <tbody>\n",
       "    <tr>\n",
       "      <th>0</th>\n",
       "      <td>i would like margherita</td>\n",
       "      <td>margherita</td>\n",
       "      <td>5</td>\n",
       "    </tr>\n",
       "    <tr>\n",
       "      <th>1</th>\n",
       "      <td>i would like one margherita</td>\n",
       "      <td>margherita</td>\n",
       "      <td>5</td>\n",
       "    </tr>\n",
       "    <tr>\n",
       "      <th>2</th>\n",
       "      <td>i would like two margheritas</td>\n",
       "      <td>margherita</td>\n",
       "      <td>5</td>\n",
       "    </tr>\n",
       "    <tr>\n",
       "      <th>3</th>\n",
       "      <td>margherita, please</td>\n",
       "      <td>margherita</td>\n",
       "      <td>5</td>\n",
       "    </tr>\n",
       "    <tr>\n",
       "      <th>4</th>\n",
       "      <td>one margherita, please</td>\n",
       "      <td>margherita</td>\n",
       "      <td>5</td>\n",
       "    </tr>\n",
       "    <tr>\n",
       "      <th>...</th>\n",
       "      <td>...</td>\n",
       "      <td>...</td>\n",
       "      <td>...</td>\n",
       "    </tr>\n",
       "    <tr>\n",
       "      <th>112</th>\n",
       "      <td>two garlic breads</td>\n",
       "      <td>garlic bread</td>\n",
       "      <td>3</td>\n",
       "    </tr>\n",
       "    <tr>\n",
       "      <th>113</th>\n",
       "      <td>please deliver me a garlic bread</td>\n",
       "      <td>garlic bread</td>\n",
       "      <td>3</td>\n",
       "    </tr>\n",
       "    <tr>\n",
       "      <th>114</th>\n",
       "      <td>please deliver me two garlic breads</td>\n",
       "      <td>garlic bread</td>\n",
       "      <td>3</td>\n",
       "    </tr>\n",
       "    <tr>\n",
       "      <th>115</th>\n",
       "      <td>i want garlic bread to be delivered to me</td>\n",
       "      <td>garlic bread</td>\n",
       "      <td>3</td>\n",
       "    </tr>\n",
       "    <tr>\n",
       "      <th>116</th>\n",
       "      <td>i want to order garlic bread</td>\n",
       "      <td>garlic bread</td>\n",
       "      <td>3</td>\n",
       "    </tr>\n",
       "  </tbody>\n",
       "</table>\n",
       "<p>117 rows × 3 columns</p>\n",
       "</div>"
      ],
      "text/plain": [
       "                                        inputs         class  labels\n",
       "0                      i would like margherita    margherita       5\n",
       "1                  i would like one margherita    margherita       5\n",
       "2                 i would like two margheritas    margherita       5\n",
       "3                           margherita, please    margherita       5\n",
       "4                       one margherita, please    margherita       5\n",
       "..                                         ...           ...     ...\n",
       "112                          two garlic breads  garlic bread       3\n",
       "113           please deliver me a garlic bread  garlic bread       3\n",
       "114        please deliver me two garlic breads  garlic bread       3\n",
       "115  i want garlic bread to be delivered to me  garlic bread       3\n",
       "116               i want to order garlic bread  garlic bread       3\n",
       "\n",
       "[117 rows x 3 columns]"
      ]
     },
     "execution_count": 57,
     "metadata": {},
     "output_type": "execute_result"
    }
   ],
   "source": [
    "df[\"labels\"] = le.transform(df[\"class\"])\n",
    "df"
   ]
  },
  {
   "cell_type": "code",
   "execution_count": 58,
   "metadata": {},
   "outputs": [],
   "source": [
    "vectorizer = TfidfVectorizer()\n",
    "X = vectorizer.fit_transform(df[\"inputs\"])"
   ]
  },
  {
   "cell_type": "code",
   "execution_count": 59,
   "metadata": {},
   "outputs": [
    {
     "data": {
      "text/plain": [
       "(117, 34)"
      ]
     },
     "execution_count": 59,
     "metadata": {},
     "output_type": "execute_result"
    }
   ],
   "source": [
    "X.shape"
   ]
  },
  {
   "cell_type": "code",
   "execution_count": 60,
   "metadata": {},
   "outputs": [],
   "source": [
    "X_train, X_test, y_train, y_test = train_test_split(X, df[\"labels\"], test_size=0.2, random_state=0)"
   ]
  },
  {
   "cell_type": "code",
   "execution_count": 61,
   "metadata": {},
   "outputs": [
    {
     "data": {
      "text/plain": [
       "MultinomialNB(alpha=0.99)"
      ]
     },
     "execution_count": 61,
     "metadata": {},
     "output_type": "execute_result"
    }
   ],
   "source": [
    "classifier = MultinomialNB(alpha=0.99)\n",
    "classifier.fit(X_train.toarray(), y_train)"
   ]
  },
  {
   "cell_type": "code",
   "execution_count": 62,
   "metadata": {},
   "outputs": [
    {
     "data": {
      "text/plain": [
       "[array([5]),\n",
       " array([7]),\n",
       " array([0]),\n",
       " array([0]),\n",
       " array([5]),\n",
       " array([1]),\n",
       " array([6]),\n",
       " array([3]),\n",
       " array([2]),\n",
       " array([0]),\n",
       " array([0]),\n",
       " array([5]),\n",
       " array([4]),\n",
       " array([5]),\n",
       " array([3]),\n",
       " array([7]),\n",
       " array([0]),\n",
       " array([8]),\n",
       " array([7]),\n",
       " array([8]),\n",
       " array([2]),\n",
       " array([3]),\n",
       " array([2]),\n",
       " array([4])]"
      ]
     },
     "execution_count": 62,
     "metadata": {},
     "output_type": "execute_result"
    }
   ],
   "source": [
    "preds = []\n",
    "for row in X_test:\n",
    "    result = classifier.predict(row.toarray())\n",
    "    preds.append(result)\n",
    "\n",
    "preds"
   ]
  },
  {
   "cell_type": "code",
   "execution_count": 63,
   "metadata": {},
   "outputs": [
    {
     "data": {
      "text/plain": [
       "0.9583333333333334"
      ]
     },
     "execution_count": 63,
     "metadata": {},
     "output_type": "execute_result"
    }
   ],
   "source": [
    "acc_score = accuracy_score(y_test, preds)\n",
    "acc_score"
   ]
  },
  {
   "cell_type": "code",
   "execution_count": 64,
   "metadata": {},
   "outputs": [
    {
     "data": {
      "text/plain": [
       "array([[5, 0, 0, 0, 0, 0, 0, 0, 0],\n",
       "       [0, 1, 0, 0, 0, 0, 0, 0, 0],\n",
       "       [0, 0, 3, 0, 0, 1, 0, 0, 0],\n",
       "       [0, 0, 0, 3, 0, 0, 0, 0, 0],\n",
       "       [0, 0, 0, 0, 2, 0, 0, 0, 0],\n",
       "       [0, 0, 0, 0, 0, 3, 0, 0, 0],\n",
       "       [0, 0, 0, 0, 0, 0, 1, 0, 0],\n",
       "       [0, 0, 0, 0, 0, 0, 0, 3, 0],\n",
       "       [0, 0, 0, 0, 0, 0, 0, 0, 2]])"
      ]
     },
     "execution_count": 64,
     "metadata": {},
     "output_type": "execute_result"
    }
   ],
   "source": [
    "cm = confusion_matrix(y_test, preds)\n",
    "cm"
   ]
  },
  {
   "cell_type": "code",
   "execution_count": 65,
   "metadata": {},
   "outputs": [
    {
     "data": {
      "text/plain": [
       "['../models/foods_clf_mnb.joblib']"
      ]
     },
     "execution_count": 65,
     "metadata": {},
     "output_type": "execute_result"
    }
   ],
   "source": [
    "model_path = \"../models/foods_clf_mnb.joblib\"\n",
    "dump(classifier, model_path)"
   ]
  }
 ],
 "metadata": {
  "interpreter": {
   "hash": "1bf5291a606fd15d795e94a41fcaafd654c3431a5e9ddb0defb0e182405d0baa"
  },
  "kernelspec": {
   "display_name": "Python 3.10.0 ('nlp')",
   "language": "python",
   "name": "python3"
  },
  "language_info": {
   "codemirror_mode": {
    "name": "ipython",
    "version": 3
   },
   "file_extension": ".py",
   "mimetype": "text/x-python",
   "name": "python",
   "nbconvert_exporter": "python",
   "pygments_lexer": "ipython3",
   "version": "3.10.0"
  },
  "orig_nbformat": 4
 },
 "nbformat": 4,
 "nbformat_minor": 2
}
