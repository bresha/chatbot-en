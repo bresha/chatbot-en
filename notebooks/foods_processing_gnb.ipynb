{
 "cells": [
  {
   "cell_type": "code",
   "execution_count": 23,
   "metadata": {},
   "outputs": [],
   "source": [
    "import nltk\n",
    "import pandas as pd\n",
    "import numpy as np\n",
    "from sklearn.preprocessing import LabelEncoder\n",
    "from sklearn.naive_bayes import GaussianNB\n",
    "from sklearn.feature_extraction.text import TfidfVectorizer\n",
    "from sklearn.model_selection import train_test_split\n",
    "from sklearn.metrics import accuracy_score, confusion_matrix\n",
    "import json\n",
    "from joblib import dump"
   ]
  },
  {
   "cell_type": "code",
   "execution_count": 2,
   "metadata": {},
   "outputs": [
    {
     "data": {
      "text/plain": [
       "[['I would like Margherita', 'Margherita'],\n",
       " ['I would like one Margherita', 'Margherita'],\n",
       " ['I would like two Margheritas', 'Margherita'],\n",
       " ['Margherita, please', 'Margherita'],\n",
       " ['One Margherita, please', 'Margherita'],\n",
       " ['Two Margheritas, please', 'Margherita'],\n",
       " ['Margherita', 'Margherita'],\n",
       " ['One Margherita', 'Margherita'],\n",
       " ['Two Margheritas', 'Margherita'],\n",
       " ['Please deliver me a Margherita', 'Margherita'],\n",
       " ['Please deliver me two Margheritas', 'Margherita'],\n",
       " ['I want Margherita to be delivered to me', 'Margherita'],\n",
       " ['I want to order Margherita', 'Margherita'],\n",
       " ['I would like Formaggio', 'Formaggio'],\n",
       " ['I would like one Formaggio', 'Formaggio'],\n",
       " ['I would like two Formaggios', 'Formaggio'],\n",
       " ['Formaggio, please', 'Formaggio'],\n",
       " ['One Formaggio, please', 'Formaggio'],\n",
       " ['Two Formaggios, please', 'Formaggio'],\n",
       " ['Formaggio', 'Formaggio'],\n",
       " ['One Formaggio', 'Formaggio'],\n",
       " ['Two Formaggios', 'Formaggio'],\n",
       " ['Please deliver me a Formaggio', 'Formaggio'],\n",
       " ['Please deliver me two Formaggios', 'Formaggio'],\n",
       " ['I want Formaggio to be delivered to me', 'Formaggio'],\n",
       " ['I want to order Formaggio', 'Formaggio'],\n",
       " ['I would like Meat Town', 'Meat Town'],\n",
       " ['I would like one Meat Town', 'Meat Town'],\n",
       " ['I would like two Meat Towns', 'Meat Town'],\n",
       " ['Meat Town, please', 'Meat Town'],\n",
       " ['One Meat Town, please', 'Meat Town'],\n",
       " ['Two Meat Towns, please', 'Meat Town'],\n",
       " ['Meat Town', 'Meat Town'],\n",
       " ['One Meat Town', 'Meat Town'],\n",
       " ['Two Meat Towns', 'Meat Town'],\n",
       " ['Please deliver me a Meat Town', 'Meat Town'],\n",
       " ['Please deliver me two Meat Towns', 'Meat Town'],\n",
       " ['I want Meat Town to be delivered to me', 'Meat Town'],\n",
       " ['I want to order Meat Town', 'Meat Town'],\n",
       " ['I would like Lasagna', 'Lasagna'],\n",
       " ['I would like one Lasagna', 'Lasagna'],\n",
       " ['I would like two Lasagnas', 'Lasagna'],\n",
       " ['Lasagna, please', 'Lasagna'],\n",
       " ['One Lasagna, please', 'Lasagna'],\n",
       " ['Two Lasagnas, please', 'Lasagna'],\n",
       " ['Lasagna', 'Lasagna'],\n",
       " ['One Lasagna', 'Lasagna'],\n",
       " ['Two Lasagnas', 'Lasagna'],\n",
       " ['Please deliver me a Lasagna', 'Lasagna'],\n",
       " ['Please deliver me two Lasagnas', 'Lasagna'],\n",
       " ['I want Lasagna to be delivered to me', 'Lasagna'],\n",
       " ['I want to order Lasagna', 'Lasagna'],\n",
       " ['I would like Ravioli', 'Ravioli'],\n",
       " ['I would like one Ravioli', 'Ravioli'],\n",
       " ['I would like two Raviolis', 'Ravioli'],\n",
       " ['Ravioli, please', 'Ravioli'],\n",
       " ['One Ravioli, please', 'Ravioli'],\n",
       " ['Two Raviolis, please', 'Ravioli'],\n",
       " ['Ravioli', 'Ravioli'],\n",
       " ['One Ravioli', 'Ravioli'],\n",
       " ['Two Raviolis', 'Ravioli'],\n",
       " ['Please deliver me a Ravioli', 'Ravioli'],\n",
       " ['Please deliver me two Raviolis', 'Ravioli'],\n",
       " ['I want Ravioli to be delivered to me', 'Ravioli'],\n",
       " ['I want to order Ravioli', 'Ravioli'],\n",
       " ['I would like Spaghetti Classica', 'Spaghetti Classica'],\n",
       " ['I would like one Spaghetti', 'Spaghetti Classica'],\n",
       " ['I would like two Spaghettis', 'Spaghetti Classica'],\n",
       " ['Spaghetti Classica, please', 'Spaghetti Classica'],\n",
       " ['One Spaghetti Classica, please', 'Spaghetti Classica'],\n",
       " ['Two Spaghettis, please', 'Spaghetti Classica'],\n",
       " ['Spaghetti Classica', 'Spaghetti Classica'],\n",
       " ['One Spaghetti Classica', 'Spaghetti Classica'],\n",
       " ['Two Spaghetti Classica', 'Spaghetti Classica'],\n",
       " ['Please deliver me a Spaghetti', 'Spaghetti Classica'],\n",
       " ['Please deliver me two Spaghetti Classica', 'Spaghetti Classica'],\n",
       " ['I want Spaghetti to be delivered to me', 'Spaghetti Classica'],\n",
       " ['I want to order Spaghetti Classica', 'Spaghetti Classica'],\n",
       " ['I would like Chicken Soup', 'Chicken Soup'],\n",
       " ['I would like one Chicken Soup', 'Chicken Soup'],\n",
       " ['I would like two Chicken Soups', 'Chicken Soup'],\n",
       " ['Chicken Soup, please', 'Chicken Soup'],\n",
       " ['One Chicken Soup, please', 'Chicken Soup'],\n",
       " ['Two Chicken Soups, please', 'Chicken Soup'],\n",
       " ['Chicken Soup', 'Chicken Soup'],\n",
       " ['One Chicken Soup', 'Chicken Soup'],\n",
       " ['Two Chicken Soups', 'Chicken Soup'],\n",
       " ['Please deliver me a Chicken Soup', 'Chicken Soup'],\n",
       " ['Please deliver me two Chicken Soups', 'Chicken Soup'],\n",
       " ['I want Chicken Soup to be delivered to me', 'Chicken Soup'],\n",
       " ['I want to order Chicken Soup', 'Chicken Soup'],\n",
       " ['I would like Bruschetta', 'Bruschetta'],\n",
       " ['I would like one Bruschetta', 'Bruschetta'],\n",
       " ['I would like two Bruschettas', 'Bruschetta'],\n",
       " ['Bruschetta, please', 'Bruschetta'],\n",
       " ['One Bruschetta, please', 'Bruschetta'],\n",
       " ['Two Bruschettas, please', 'Bruschetta'],\n",
       " ['Bruschetta', 'Bruschetta'],\n",
       " ['One Bruschetta', 'Bruschetta'],\n",
       " ['Two Bruschettas', 'Bruschetta'],\n",
       " ['Please deliver me a Bruschetta', 'Bruschetta'],\n",
       " ['Please deliver me two Bruschettas', 'Bruschetta'],\n",
       " ['I want Bruschetta to be delivered to me', 'Bruschetta'],\n",
       " ['I want to order Bruschetta', 'Bruschetta'],\n",
       " ['I would like Garlic bread', 'Garlic bread'],\n",
       " ['I would like one Garlic bread', 'Garlic bread'],\n",
       " ['I would like two Garlic breads', 'Garlic bread'],\n",
       " ['Garlic bread, please', 'Garlic bread'],\n",
       " ['One Garlic bread, please', 'Garlic bread'],\n",
       " ['Two Garlic breads, please', 'Garlic bread'],\n",
       " ['Garlic bread', 'Garlic bread'],\n",
       " ['One Garlic bread', 'Garlic bread'],\n",
       " ['Two Garlic breads', 'Garlic bread'],\n",
       " ['Please deliver me a Garlic bread', 'Garlic bread'],\n",
       " ['Please deliver me two Garlic breads', 'Garlic bread'],\n",
       " ['I want Garlic bread to be delivered to me', 'Garlic bread'],\n",
       " ['I want to order Garlic bread', 'Garlic bread']]"
      ]
     },
     "execution_count": 2,
     "metadata": {},
     "output_type": "execute_result"
    }
   ],
   "source": [
    "with open(\"../data/foods_data.json\") as f:\n",
    "    content = json.load(f)\n",
    "\n",
    "examples = []\n",
    "for item in content:\n",
    "    for i in item[\"inputs\"]:\n",
    "        examples.append([i, item[\"class\"]])\n",
    "\n",
    "examples"
   ]
  },
  {
   "cell_type": "code",
   "execution_count": 6,
   "metadata": {},
   "outputs": [
    {
     "data": {
      "text/html": [
       "<div>\n",
       "<style scoped>\n",
       "    .dataframe tbody tr th:only-of-type {\n",
       "        vertical-align: middle;\n",
       "    }\n",
       "\n",
       "    .dataframe tbody tr th {\n",
       "        vertical-align: top;\n",
       "    }\n",
       "\n",
       "    .dataframe thead th {\n",
       "        text-align: right;\n",
       "    }\n",
       "</style>\n",
       "<table border=\"1\" class=\"dataframe\">\n",
       "  <thead>\n",
       "    <tr style=\"text-align: right;\">\n",
       "      <th></th>\n",
       "      <th>inputs</th>\n",
       "      <th>class</th>\n",
       "    </tr>\n",
       "  </thead>\n",
       "  <tbody>\n",
       "    <tr>\n",
       "      <th>0</th>\n",
       "      <td>I would like Margherita</td>\n",
       "      <td>Margherita</td>\n",
       "    </tr>\n",
       "    <tr>\n",
       "      <th>1</th>\n",
       "      <td>I would like one Margherita</td>\n",
       "      <td>Margherita</td>\n",
       "    </tr>\n",
       "    <tr>\n",
       "      <th>2</th>\n",
       "      <td>I would like two Margheritas</td>\n",
       "      <td>Margherita</td>\n",
       "    </tr>\n",
       "    <tr>\n",
       "      <th>3</th>\n",
       "      <td>Margherita, please</td>\n",
       "      <td>Margherita</td>\n",
       "    </tr>\n",
       "    <tr>\n",
       "      <th>4</th>\n",
       "      <td>One Margherita, please</td>\n",
       "      <td>Margherita</td>\n",
       "    </tr>\n",
       "    <tr>\n",
       "      <th>...</th>\n",
       "      <td>...</td>\n",
       "      <td>...</td>\n",
       "    </tr>\n",
       "    <tr>\n",
       "      <th>112</th>\n",
       "      <td>Two Garlic breads</td>\n",
       "      <td>Garlic bread</td>\n",
       "    </tr>\n",
       "    <tr>\n",
       "      <th>113</th>\n",
       "      <td>Please deliver me a Garlic bread</td>\n",
       "      <td>Garlic bread</td>\n",
       "    </tr>\n",
       "    <tr>\n",
       "      <th>114</th>\n",
       "      <td>Please deliver me two Garlic breads</td>\n",
       "      <td>Garlic bread</td>\n",
       "    </tr>\n",
       "    <tr>\n",
       "      <th>115</th>\n",
       "      <td>I want Garlic bread to be delivered to me</td>\n",
       "      <td>Garlic bread</td>\n",
       "    </tr>\n",
       "    <tr>\n",
       "      <th>116</th>\n",
       "      <td>I want to order Garlic bread</td>\n",
       "      <td>Garlic bread</td>\n",
       "    </tr>\n",
       "  </tbody>\n",
       "</table>\n",
       "<p>117 rows × 2 columns</p>\n",
       "</div>"
      ],
      "text/plain": [
       "                                        inputs         class\n",
       "0                      I would like Margherita    Margherita\n",
       "1                  I would like one Margherita    Margherita\n",
       "2                 I would like two Margheritas    Margherita\n",
       "3                           Margherita, please    Margherita\n",
       "4                       One Margherita, please    Margherita\n",
       "..                                         ...           ...\n",
       "112                          Two Garlic breads  Garlic bread\n",
       "113           Please deliver me a Garlic bread  Garlic bread\n",
       "114        Please deliver me two Garlic breads  Garlic bread\n",
       "115  I want Garlic bread to be delivered to me  Garlic bread\n",
       "116               I want to order Garlic bread  Garlic bread\n",
       "\n",
       "[117 rows x 2 columns]"
      ]
     },
     "execution_count": 6,
     "metadata": {},
     "output_type": "execute_result"
    }
   ],
   "source": [
    "df = pd.DataFrame(examples, columns=[\"inputs\", \"class\"])\n",
    "df"
   ]
  },
  {
   "cell_type": "code",
   "execution_count": 7,
   "metadata": {},
   "outputs": [
    {
     "data": {
      "text/plain": [
       "LabelEncoder()"
      ]
     },
     "execution_count": 7,
     "metadata": {},
     "output_type": "execute_result"
    }
   ],
   "source": [
    "le = LabelEncoder()\n",
    "le.fit(df[\"class\"])"
   ]
  },
  {
   "cell_type": "code",
   "execution_count": 9,
   "metadata": {},
   "outputs": [
    {
     "data": {
      "text/html": [
       "<div>\n",
       "<style scoped>\n",
       "    .dataframe tbody tr th:only-of-type {\n",
       "        vertical-align: middle;\n",
       "    }\n",
       "\n",
       "    .dataframe tbody tr th {\n",
       "        vertical-align: top;\n",
       "    }\n",
       "\n",
       "    .dataframe thead th {\n",
       "        text-align: right;\n",
       "    }\n",
       "</style>\n",
       "<table border=\"1\" class=\"dataframe\">\n",
       "  <thead>\n",
       "    <tr style=\"text-align: right;\">\n",
       "      <th></th>\n",
       "      <th>inputs</th>\n",
       "      <th>class</th>\n",
       "      <th>labels</th>\n",
       "    </tr>\n",
       "  </thead>\n",
       "  <tbody>\n",
       "    <tr>\n",
       "      <th>0</th>\n",
       "      <td>I would like Margherita</td>\n",
       "      <td>Margherita</td>\n",
       "      <td>5</td>\n",
       "    </tr>\n",
       "    <tr>\n",
       "      <th>1</th>\n",
       "      <td>I would like one Margherita</td>\n",
       "      <td>Margherita</td>\n",
       "      <td>5</td>\n",
       "    </tr>\n",
       "    <tr>\n",
       "      <th>2</th>\n",
       "      <td>I would like two Margheritas</td>\n",
       "      <td>Margherita</td>\n",
       "      <td>5</td>\n",
       "    </tr>\n",
       "    <tr>\n",
       "      <th>3</th>\n",
       "      <td>Margherita, please</td>\n",
       "      <td>Margherita</td>\n",
       "      <td>5</td>\n",
       "    </tr>\n",
       "    <tr>\n",
       "      <th>4</th>\n",
       "      <td>One Margherita, please</td>\n",
       "      <td>Margherita</td>\n",
       "      <td>5</td>\n",
       "    </tr>\n",
       "    <tr>\n",
       "      <th>...</th>\n",
       "      <td>...</td>\n",
       "      <td>...</td>\n",
       "      <td>...</td>\n",
       "    </tr>\n",
       "    <tr>\n",
       "      <th>112</th>\n",
       "      <td>Two Garlic breads</td>\n",
       "      <td>Garlic bread</td>\n",
       "      <td>3</td>\n",
       "    </tr>\n",
       "    <tr>\n",
       "      <th>113</th>\n",
       "      <td>Please deliver me a Garlic bread</td>\n",
       "      <td>Garlic bread</td>\n",
       "      <td>3</td>\n",
       "    </tr>\n",
       "    <tr>\n",
       "      <th>114</th>\n",
       "      <td>Please deliver me two Garlic breads</td>\n",
       "      <td>Garlic bread</td>\n",
       "      <td>3</td>\n",
       "    </tr>\n",
       "    <tr>\n",
       "      <th>115</th>\n",
       "      <td>I want Garlic bread to be delivered to me</td>\n",
       "      <td>Garlic bread</td>\n",
       "      <td>3</td>\n",
       "    </tr>\n",
       "    <tr>\n",
       "      <th>116</th>\n",
       "      <td>I want to order Garlic bread</td>\n",
       "      <td>Garlic bread</td>\n",
       "      <td>3</td>\n",
       "    </tr>\n",
       "  </tbody>\n",
       "</table>\n",
       "<p>117 rows × 3 columns</p>\n",
       "</div>"
      ],
      "text/plain": [
       "                                        inputs         class  labels\n",
       "0                      I would like Margherita    Margherita       5\n",
       "1                  I would like one Margherita    Margherita       5\n",
       "2                 I would like two Margheritas    Margherita       5\n",
       "3                           Margherita, please    Margherita       5\n",
       "4                       One Margherita, please    Margherita       5\n",
       "..                                         ...           ...     ...\n",
       "112                          Two Garlic breads  Garlic bread       3\n",
       "113           Please deliver me a Garlic bread  Garlic bread       3\n",
       "114        Please deliver me two Garlic breads  Garlic bread       3\n",
       "115  I want Garlic bread to be delivered to me  Garlic bread       3\n",
       "116               I want to order Garlic bread  Garlic bread       3\n",
       "\n",
       "[117 rows x 3 columns]"
      ]
     },
     "execution_count": 9,
     "metadata": {},
     "output_type": "execute_result"
    }
   ],
   "source": [
    "df[\"labels\"] = le.transform(df[\"class\"])\n",
    "df"
   ]
  },
  {
   "cell_type": "code",
   "execution_count": 11,
   "metadata": {},
   "outputs": [
    {
     "data": {
      "text/plain": [
       "<117x34 sparse matrix of type '<class 'numpy.float64'>'\n",
       "\twith 434 stored elements in Compressed Sparse Row format>"
      ]
     },
     "execution_count": 11,
     "metadata": {},
     "output_type": "execute_result"
    }
   ],
   "source": [
    "vectorizer = TfidfVectorizer()\n",
    "X = vectorizer.fit_transform(df[\"inputs\"])"
   ]
  },
  {
   "cell_type": "code",
   "execution_count": 12,
   "metadata": {},
   "outputs": [
    {
     "data": {
      "text/plain": [
       "(117, 34)"
      ]
     },
     "execution_count": 12,
     "metadata": {},
     "output_type": "execute_result"
    }
   ],
   "source": [
    "X.shape"
   ]
  },
  {
   "cell_type": "code",
   "execution_count": 16,
   "metadata": {},
   "outputs": [],
   "source": [
    "X_train, X_test, y_train, y_test = train_test_split(X, df[\"labels\"], test_size=0.2, random_state=0)"
   ]
  },
  {
   "cell_type": "code",
   "execution_count": 19,
   "metadata": {},
   "outputs": [
    {
     "data": {
      "text/plain": [
       "GaussianNB()"
      ]
     },
     "execution_count": 19,
     "metadata": {},
     "output_type": "execute_result"
    }
   ],
   "source": [
    "classifier = GaussianNB()\n",
    "classifier.fit(X_train.toarray(), y_train)"
   ]
  },
  {
   "cell_type": "code",
   "execution_count": 20,
   "metadata": {},
   "outputs": [
    {
     "data": {
      "text/plain": [
       "[array([5]),\n",
       " array([7]),\n",
       " array([0]),\n",
       " array([0]),\n",
       " array([5]),\n",
       " array([1]),\n",
       " array([6]),\n",
       " array([3]),\n",
       " array([2]),\n",
       " array([0]),\n",
       " array([0]),\n",
       " array([5]),\n",
       " array([7]),\n",
       " array([7]),\n",
       " array([3]),\n",
       " array([7]),\n",
       " array([0]),\n",
       " array([8]),\n",
       " array([7]),\n",
       " array([8]),\n",
       " array([2]),\n",
       " array([3]),\n",
       " array([2]),\n",
       " array([4])]"
      ]
     },
     "execution_count": 20,
     "metadata": {},
     "output_type": "execute_result"
    }
   ],
   "source": [
    "preds = []\n",
    "for row in X_test:\n",
    "    result = classifier.predict(row.toarray())\n",
    "    preds.append(result)\n",
    "\n",
    "preds"
   ]
  },
  {
   "cell_type": "code",
   "execution_count": 21,
   "metadata": {},
   "outputs": [
    {
     "data": {
      "text/plain": [
       "0.9166666666666666"
      ]
     },
     "execution_count": 21,
     "metadata": {},
     "output_type": "execute_result"
    }
   ],
   "source": [
    "acc_score = accuracy_score(y_test, preds)\n",
    "acc_score"
   ]
  },
  {
   "cell_type": "code",
   "execution_count": 24,
   "metadata": {},
   "outputs": [
    {
     "data": {
      "text/plain": [
       "array([[5, 0, 0, 0, 0, 0, 0, 0, 0],\n",
       "       [0, 1, 0, 0, 0, 0, 0, 0, 0],\n",
       "       [0, 0, 3, 0, 0, 0, 0, 1, 0],\n",
       "       [0, 0, 0, 3, 0, 0, 0, 0, 0],\n",
       "       [0, 0, 0, 0, 1, 0, 0, 1, 0],\n",
       "       [0, 0, 0, 0, 0, 3, 0, 0, 0],\n",
       "       [0, 0, 0, 0, 0, 0, 1, 0, 0],\n",
       "       [0, 0, 0, 0, 0, 0, 0, 3, 0],\n",
       "       [0, 0, 0, 0, 0, 0, 0, 0, 2]])"
      ]
     },
     "execution_count": 24,
     "metadata": {},
     "output_type": "execute_result"
    }
   ],
   "source": [
    "cm = confusion_matrix(y_test, preds)\n",
    "cm"
   ]
  },
  {
   "cell_type": "code",
   "execution_count": 25,
   "metadata": {},
   "outputs": [
    {
     "data": {
      "text/plain": [
       "['../models/foods_clf_gnb.joblib']"
      ]
     },
     "execution_count": 25,
     "metadata": {},
     "output_type": "execute_result"
    }
   ],
   "source": [
    "model_path = \"../models/foods_clf_gnb.joblib\"\n",
    "dump(classifier, model_path)"
   ]
  }
 ],
 "metadata": {
  "interpreter": {
   "hash": "1bf5291a606fd15d795e94a41fcaafd654c3431a5e9ddb0defb0e182405d0baa"
  },
  "kernelspec": {
   "display_name": "Python 3.10.0 ('nlp')",
   "language": "python",
   "name": "python3"
  },
  "language_info": {
   "codemirror_mode": {
    "name": "ipython",
    "version": 3
   },
   "file_extension": ".py",
   "mimetype": "text/x-python",
   "name": "python",
   "nbconvert_exporter": "python",
   "pygments_lexer": "ipython3",
   "version": "3.10.0"
  },
  "orig_nbformat": 4
 },
 "nbformat": 4,
 "nbformat_minor": 2
}
